{
  "cells": [
    {
      "cell_type": "markdown",
      "metadata": {
        "colab_type": "text",
        "id": "view-in-github"
      },
      "source": [
        "<a href=\"https://colab.research.google.com/github/qqqqaqaqaqq/ktcloud_genai/blob/main/test.ipynb\" target=\"_parent\"><img src=\"https://colab.research.google.com/assets/colab-badge.svg\" alt=\"Open In Colab\"/></a>"
      ]
    },
    {
      "cell_type": "code",
      "execution_count": null,
      "metadata": {
        "colab": {
          "base_uri": "https://localhost:8080/"
        },
        "id": "Cwh_p48vp53z",
        "outputId": "34088f82-08da-4c08-c381-3c50e1f32356"
      },
      "outputs": [
        {
          "name": "stdout",
          "output_type": "stream",
          "text": [
            "Hello, World!\n",
            "나이: 20 키: 175.5\n",
            "안녕하세요, Alice님!\n",
            "안녕하세요, Alice님!\n",
            "5보다 큽니다.\n",
            "0\n",
            "1\n",
            "2\n",
            "3\n",
            "4\n",
            "0\n",
            "1\n",
            "2\n",
            "3\n",
            "4\n",
            "사과\n",
            "바나나\n",
            "딸기\n",
            "안녕하세요, Bob님!\n",
            "이름을 입력하세요: ㅇ\n",
            "반갑습니다, ㅇ님!\n",
            "첫 번째 숫자: 1\n",
            "두 번째 숫자: 2\n",
            "합계: 3\n"
          ]
        }
      ],
      "source": [
        "print(\"Hello, World!\")\n",
        "\n",
        "age = 20\n",
        "height = 175.5\n",
        "print(\"나이:\", age, \"키:\", height)\n",
        "\n",
        "name = \"Alice\"\n",
        "print(\"안녕하세요, \" + name + \"님!\")\n",
        "print(f\"안녕하세요, {name}님!\")  # f-string 사용\n",
        "\n",
        "number = 10\n",
        "if number > 5:\n",
        "    print(\"5보다 큽니다.\")\n",
        "else:\n",
        "    print(\"5보다 작거나 같습니다.\")\n",
        "\n",
        "for i in range(5):\n",
        "    print(i)\n",
        "\n",
        "count = 0\n",
        "while count < 5:\n",
        "    print(count)\n",
        "    count += 1\n",
        "\n",
        "fruits = [\"사과\", \"바나나\", \"딸기\"]\n",
        "for fruit in fruits:\n",
        "    print(fruit)\n",
        "\n",
        "def greet(name):\n",
        "    return f\"안녕하세요, {name}님!\"\n",
        "\n",
        "print(greet(\"Bob\"))\n",
        "\n",
        "name = input(\"이름을 입력하세요: \")\n",
        "print(f\"반갑습니다, {name}님!\")\n"
      ]
    }
  ],
  "metadata": {
    "colab": {
      "authorship_tag": "ABX9TyMk4CNWA7rVIGfkSxdbzoZH",
      "include_colab_link": true,
      "provenance": []
    },
    "kernelspec": {
      "display_name": "Python 3",
      "name": "python3"
    },
    "language_info": {
      "name": "python"
    }
  },
  "nbformat": 4,
  "nbformat_minor": 0
}
